{
 "cells": [
  {
   "cell_type": "code",
   "execution_count": null,
   "id": "b42fe1dc-c85a-4d5b-b139-f3cfac408d81",
   "metadata": {},
   "outputs": [],
   "source": [
    "from __future__ import print_function\n",
    "from rospy_tutorials.srv import AddTwoInts,AddTwoIntsResponse\n",
    "import rospy"
   ]
  },
  {
   "cell_type": "code",
   "execution_count": null,
   "id": "c1d6d3b8-a7dc-4edb-969c-7e975b14bde1",
   "metadata": {},
   "outputs": [],
   "source": [
    "def handle_add_two_ints(req):\n",
    "    print(\"Returning [%s + %s = %s]\"%(req.a, req.b, (req.a + req.b)))\n",
    "    return AddTwoIntsResponse(req.a + req.b)"
   ]
  },
  {
   "cell_type": "code",
   "execution_count": null,
   "id": "0d3ba987-44ed-4032-98cc-ef59ebaa1df7",
   "metadata": {},
   "outputs": [],
   "source": [
    "def add_two_ints_server():\n",
    "    rospy.init_node('add_two_ints_server')\n",
    "    s = rospy.Service('add_two_ints', AddTwoInts, handle_add_two_ints)\n",
    "    print(\"Ready to add two ints.\")\n",
    "    rospy.spin()"
   ]
  },
  {
   "cell_type": "code",
   "execution_count": null,
   "id": "b47a7bba-0e2c-41a7-90b4-882b7c098d33",
   "metadata": {},
   "outputs": [],
   "source": [
    "add_two_ints_server()"
   ]
  },
  {
   "cell_type": "markdown",
   "id": "e6e6d3a7-f69b-401b-b23c-618d65c6f466",
   "metadata": {},
   "source": [
    " "
   ]
  }
 ],
 "metadata": {
  "kernelspec": {
   "display_name": "Python 2",
   "language": "python",
   "name": "python2"
  },
  "language_info": {
   "codemirror_mode": {
    "name": "ipython",
    "version": 2
   },
   "file_extension": ".py",
   "mimetype": "text/x-python",
   "name": "python",
   "nbconvert_exporter": "python",
   "pygments_lexer": "ipython2",
   "version": "2.7.17"
  }
 },
 "nbformat": 4,
 "nbformat_minor": 5
}
