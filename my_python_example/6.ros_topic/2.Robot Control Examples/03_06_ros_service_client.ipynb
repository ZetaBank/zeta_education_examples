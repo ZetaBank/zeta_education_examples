{
 "cells": [
  {
   "cell_type": "code",
   "execution_count": null,
   "id": "166952a8-f024-4803-8c63-fd3428a545ad",
   "metadata": {},
   "outputs": [],
   "source": [
    "from __future__ import print_function\n",
    "import sys\n",
    "import rospy\n",
    "from rospy_tutorials.srv import *"
   ]
  },
  {
   "cell_type": "code",
   "execution_count": null,
   "id": "8aa3f7ae-3f22-4837-a497-625ca5a75bd6",
   "metadata": {},
   "outputs": [],
   "source": [
    "def add_two_ints_client(x, y):\n",
    "    rospy.wait_for_service('add_two_ints')\n",
    "    try:\n",
    "        add_two_ints = rospy.ServiceProxy('add_two_ints', AddTwoInts)\n",
    "        resp1 = add_two_ints(x, y)\n",
    "        return resp1.sum\n",
    "    except rospy.ServiceException as e:\n",
    "        print(\"Service call failed: %s\"%e)"
   ]
  },
  {
   "cell_type": "code",
   "execution_count": null,
   "id": "0875bd42-be33-4e7e-8bdb-132ebf7369ca",
   "metadata": {},
   "outputs": [],
   "source": [
    "def usage():\n",
    "    return \"%s [x y]\"%sys.argv[0]"
   ]
  },
  {
   "cell_type": "code",
   "execution_count": null,
   "id": "df8e50c7-eff3-49cb-9f09-2fd74f2dbc6b",
   "metadata": {},
   "outputs": [],
   "source": [
    "input_num = input(\"숫자 두 개를 입력하세요(ex: a,b) : \")\n",
    "x = int(input_num[0])\n",
    "y = int(input_num[1])\n",
    "print(\"Requesting %s+%s\"%(x, y))\n",
    "print(\"%s + %s = %s\"%(x, y, add_two_ints_client(x, y)))"
   ]
  },
  {
   "cell_type": "code",
   "execution_count": null,
   "id": "68bc33f7-570b-449a-8a3e-5d682f554212",
   "metadata": {},
   "outputs": [],
   "source": []
  }
 ],
 "metadata": {
  "kernelspec": {
   "display_name": "Python 2",
   "language": "python",
   "name": "python2"
  },
  "language_info": {
   "codemirror_mode": {
    "name": "ipython",
    "version": 2
   },
   "file_extension": ".py",
   "mimetype": "text/x-python",
   "name": "python",
   "nbconvert_exporter": "python",
   "pygments_lexer": "ipython2",
   "version": "2.7.17"
  }
 },
 "nbformat": 4,
 "nbformat_minor": 5
}
