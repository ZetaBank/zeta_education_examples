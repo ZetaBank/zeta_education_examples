{
 "cells": [
  {
   "cell_type": "markdown",
   "metadata": {},
   "source": [
    "ROS Publisher & Subscriber Misson"
   ]
  },
  {
   "cell_type": "code",
   "execution_count": null,
   "metadata": {},
   "outputs": [],
   "source": [
    "import rospy\n",
    "from std_msgs.msg import String"
   ]
  },
  {
   "cell_type": "markdown",
   "metadata": {},
   "source": [
    "Publisher Section"
   ]
  },
  {
   "cell_type": "code",
   "execution_count": null,
   "metadata": {},
   "outputs": [],
   "source": [
    "def talker():\n",
    "    pub = rospy.Publisher('topic_name', String, queue_size=10)\n",
    "    rospy.init_node('node_1', anonymous=True)\n",
    "    rate = rospy.Rate(1) # 10hz\n",
    "    while not rospy.is_shutdown():\n",
    "        message = \"Enter a Message!\" \n",
    "        rospy.loginfo(message)\n",
    "        pub.publish(message)\n",
    "        rate.sleep()"
   ]
  },
  {
   "cell_type": "code",
   "execution_count": null,
   "metadata": {},
   "outputs": [],
   "source": [
    "try:\n",
    "    talker()\n",
    "except rospy.ROSInterruptException:\n",
    "    pass"
   ]
  }
 ],
 "metadata": {
  "language_info": {
   "name": "python"
  },
  "orig_nbformat": 4
 },
 "nbformat": 4,
 "nbformat_minor": 2
}
