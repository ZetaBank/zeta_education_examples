{
 "cells": [
  {
   "cell_type": "code",
   "execution_count": null,
   "metadata": {},
   "outputs": [],
   "source": [
    "import rospy\n",
    "from std_msgs.msg import String\n",
    "\n",
    "def callback(data):\n",
    "    received_str = data.data\n",
    "    rospy.loginfo(\"Received: %s\", received_str)\n",
    "\n",
    "def subscriber_node():\n",
    "    rospy.init_node('subscriber_string', anonymous=True)\n",
    "    rospy.Subscriber('topic_string', String, callback)\n",
    "    rospy.spin()\n",
    "\n",
    "if __name__ == '__main__':\n",
    "    try:\n",
    "        subscriber_node()\n",
    "    except rospy.ROSInterruptException:\n",
    "        pass"
   ]
  }
 ],
 "metadata": {
  "language_info": {
   "name": "python"
  },
  "orig_nbformat": 4
 },
 "nbformat": 4,
 "nbformat_minor": 2
}
