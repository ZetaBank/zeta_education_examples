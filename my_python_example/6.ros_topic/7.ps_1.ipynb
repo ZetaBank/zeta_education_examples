{
 "cells": [
  {
   "cell_type": "code",
   "execution_count": null,
   "metadata": {},
   "outputs": [],
   "source": [
    "import rospy\n",
    "from std_msgs.msg import String\n",
    "\n",
    "pub1 = None\n",
    "\n",
    "def callback1(data):\n",
    "    rospy.loginfo(\"Received from Publisher2: %s\", data.data)\n",
    "    pub1.publish(data.data)\n",
    "    \n",
    "    rate = rospy.Rate(1)\n",
    "    rate.sleep()\n",
    "    pub1.unregister()\n",
    "    rospy.signal_shutdown(\"Published from Publisher1\")\n",
    "\n",
    "def publisher_subscriber_1_node():\n",
    "    global pub1\n",
    "    rospy.init_node('publisher_subscriber_1_node', anonymous=True)\n",
    "    pub1 = rospy.Publisher('topic_1', String, queue_size=10)\n",
    "    rospy.Subscriber('topic_2', String, callback1)\n",
    "\n",
    "    user_input = input(\"Publisher1: Enter a string: \")\n",
    "    rospy.loginfo(\"Published from Publisher1: %s\", user_input)\n",
    "    pub1.publish(user_input)\n",
    "    rate = rospy.Rate(1)\n",
    "    rate.sleep()\n",
    "\n",
    "if __name__ == '__main__':\n",
    "    try:\n",
    "        publisher_subscriber_1_node()\n",
    "    except rospy.ROSInterruptException:\n",
    "        pass"
   ]
  }
 ],
 "metadata": {
  "language_info": {
   "name": "python"
  },
  "orig_nbformat": 4
 },
 "nbformat": 4,
 "nbformat_minor": 2
}
