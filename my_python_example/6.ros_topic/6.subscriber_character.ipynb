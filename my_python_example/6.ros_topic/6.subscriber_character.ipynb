{
 "cells": [
  {
   "cell_type": "code",
   "execution_count": null,
   "metadata": {},
   "outputs": [],
   "source": [
    "import rospy\n",
    "from std_msgs.msg import String\n",
    "\n",
    "def callback(data):\n",
    "    received_char = data.data\n",
    "    rospy.loginfo(\"Received: %s\", received_char)\n",
    "\n",
    "def subscriber_node():\n",
    "    rospy.init_node('subscriber_character', anonymous=True)\n",
    "    rospy.Subscriber('topic_character', String, callback)\n",
    "    rospy.spin()\n",
    "\n",
    "if __name__ == '__main__':\n",
    "    try:\n",
    "        subscriber_node()\n",
    "    except rospy.ROSInterruptException:\n",
    "        pass"
   ]
  }
 ],
 "metadata": {
  "language_info": {
   "name": "python"
  },
  "orig_nbformat": 4
 },
 "nbformat": 4,
 "nbformat_minor": 2
}
