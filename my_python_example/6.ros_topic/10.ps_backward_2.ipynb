{
 "cells": [
  {
   "cell_type": "code",
   "execution_count": null,
   "metadata": {},
   "outputs": [],
   "source": [
    "import rospy\n",
    "from std_msgs.msg import String\n",
    "\n",
    "pub2 = None\n",
    "\n",
    "def callback2(data):\n",
    "    received_message = data.data\n",
    "    reversed_message = received_message[::-1]\n",
    "    rospy.loginfo(\"Received from Publisher1: %s\", reversed_message)\n",
    "    pub2.publish(reversed_message)\n",
    "\n",
    "    rate = rospy.Rate(1)\n",
    "    rate.sleep()\n",
    "    pub2.unregister()\n",
    "    rospy.signal_shutdown(\"Published from Publisher2\")\n",
    "\n",
    "def publisher_subscriber_2_node():\n",
    "    global pub2\n",
    "    rospy.init_node('publisher_subscriber_2_node', anonymous=True)\n",
    "    pub2 = rospy.Publisher('topic_2', String, queue_size=10)\n",
    "    rospy.Subscriber('topic_1', String, callback2)\n",
    "    rospy.spin()\n",
    "\n",
    "if __name__ == '__main__':\n",
    "    try:\n",
    "        publisher_subscriber_2_node()\n",
    "    except rospy.ROSInterruptException:\n",
    "        pass"
   ]
  }
 ],
 "metadata": {
  "language_info": {
   "name": "python"
  },
  "orig_nbformat": 4
 },
 "nbformat": 4,
 "nbformat_minor": 2
}
