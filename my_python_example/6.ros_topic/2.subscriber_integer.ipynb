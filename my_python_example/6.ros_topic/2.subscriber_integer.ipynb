{
 "cells": [
  {
   "cell_type": "code",
   "execution_count": null,
   "metadata": {},
   "outputs": [],
   "source": [
    "import rospy\n",
    "from std_msgs.msg import Int32\n",
    "\n",
    "total = 0\n",
    "\n",
    "def callback(data):\n",
    "    global total\n",
    "    user_input = data.data\n",
    "    total += user_input\n",
    "    rospy.loginfo(\"Received: %d | Total: %d\", user_input, total)\n",
    "\n",
    "def subscriber_node():\n",
    "    rospy.init_node('subscriber_integer', anonymous=True)\n",
    "    rospy.Subscriber('topic_integer', Int32, callback)\n",
    "    rospy.spin()\n",
    "\n",
    "if __name__ == '__main__':\n",
    "    try:\n",
    "        subscriber_node()\n",
    "    except rospy.ROSInterruptException:\n",
    "        pass"
   ]
  }
 ],
 "metadata": {
  "language_info": {
   "name": "python"
  },
  "orig_nbformat": 4
 },
 "nbformat": 4,
 "nbformat_minor": 2
}
