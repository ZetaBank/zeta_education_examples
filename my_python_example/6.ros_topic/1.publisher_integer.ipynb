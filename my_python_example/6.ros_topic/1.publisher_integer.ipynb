{
 "cells": [
  {
   "cell_type": "code",
   "execution_count": null,
   "metadata": {},
   "outputs": [],
   "source": [
    "import rospy\n",
    "from std_msgs.msg import Int32\n",
    "\n",
    "def publisher_node():\n",
    "    rospy.init_node('publisher_integer', anonymous=True)\n",
    "    pub = rospy.Publisher('topic_integer', Int32, queue_size=10)\n",
    "    rate = rospy.Rate(1)\n",
    "    while not rospy.is_shutdown():\n",
    "        user_input = int(input(\"Enter an integer: \"))\n",
    "        rospy.loginfo(\"Published: %d\", user_input)\n",
    "        pub.publish(user_input)\n",
    "        rate.sleep()\n",
    "\n",
    "if __name__ == '__main__':\n",
    "    try:\n",
    "        publisher_node()\n",
    "    except rospy.ROSInterruptException:\n",
    "        pass"
   ]
  }
 ],
 "metadata": {
  "language_info": {
   "name": "python"
  },
  "orig_nbformat": 4
 },
 "nbformat": 4,
 "nbformat_minor": 2
}
